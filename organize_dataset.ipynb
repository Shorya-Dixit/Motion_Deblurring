{
 "cells": [
  {
   "cell_type": "code",
   "execution_count": 1,
   "metadata": {},
   "outputs": [],
   "source": [
    "import os\n",
    "from shutil import copyfile\n",
    "import tqdm  # type: ignore\n"
   ]
  },
  {
   "cell_type": "code",
   "execution_count": 6,
   "metadata": {},
   "outputs": [],
   "source": [
    "dir_in='GOPRO_Large'\n",
    "dir_out='Reorganized_GOPRO_Large'"
   ]
  },
  {
   "cell_type": "code",
   "execution_count": 7,
   "metadata": {},
   "outputs": [],
   "source": [
    "def reorganize_gopro_files(dir_in, dir_out):\n",
    "    if not os.path.exists(dir_out):\n",
    "        os.makedirs(dir_out)\n",
    "\n",
    "    for folder_train_test in tqdm.tqdm(os.listdir(dir_in), desc='dir'):\n",
    "        output_directory = os.path.join(dir_out, folder_train_test)\n",
    "        output_directory_A = os.path.join(output_directory, 'A')\n",
    "        output_directory_B = os.path.join(output_directory, 'B')\n",
    "        if not os.path.exists(output_directory):\n",
    "            os.makedirs(output_directory)\n",
    "        if not os.path.exists(output_directory_A):\n",
    "            os.makedirs(output_directory_A)\n",
    "        if not os.path.exists(output_directory_B):\n",
    "            os.makedirs(output_directory_B)\n",
    "\n",
    "        current_folder_path = os.path.join(dir_in, folder_train_test)\n",
    "        for image_folder in tqdm.tqdm(os.listdir(current_folder_path), desc='image_folders'):\n",
    "\n",
    "            current_sub_folder_path = os.path.join(current_folder_path, image_folder)\n",
    "\n",
    "            for image_blurred in os.listdir(os.path.join(current_sub_folder_path, 'blur')):\n",
    "                current_image_blurred_path = os.path.join(current_sub_folder_path, 'blur', image_blurred)\n",
    "                output_image_blurred_path = os.path.join(output_directory_A, image_folder + \"_\" + image_blurred)\n",
    "                copyfile(current_image_blurred_path, output_image_blurred_path)\n",
    "\n",
    "            for image_sharp in os.listdir(os.path.join(current_sub_folder_path, 'sharp')):\n",
    "                current_image_sharp_path = os.path.join(current_sub_folder_path, 'sharp', image_sharp)\n",
    "                output_image_sharp_path = os.path.join(output_directory_B, image_folder + \"_\" + image_sharp)\n",
    "                copyfile(current_image_sharp_path, output_image_sharp_path)"
   ]
  },
  {
   "cell_type": "code",
   "execution_count": 8,
   "metadata": {},
   "outputs": [
    {
     "name": "stderr",
     "output_type": "stream",
     "text": [
      "dir:   0%|          | 0/2 [00:00<?, ?it/s]"
     ]
    },
    {
     "name": "stderr",
     "output_type": "stream",
     "text": [
      "image_folders: 100%|██████████| 11/11 [01:58<00:00, 10.73s/it]\n",
      "image_folders: 100%|██████████| 22/22 [06:10<00:00, 16.85s/it]\n",
      "dir: 100%|██████████| 2/2 [08:08<00:00, 244.36s/it]\n"
     ]
    }
   ],
   "source": [
    "reorganize_gopro_files(dir_in, dir_out)"
   ]
  }
 ],
 "metadata": {
  "kernelspec": {
   "display_name": "Python 3",
   "language": "python",
   "name": "python3"
  },
  "language_info": {
   "codemirror_mode": {
    "name": "ipython",
    "version": 3
   },
   "file_extension": ".py",
   "mimetype": "text/x-python",
   "name": "python",
   "nbconvert_exporter": "python",
   "pygments_lexer": "ipython3",
   "version": "3.10.2"
  }
 },
 "nbformat": 4,
 "nbformat_minor": 2
}
